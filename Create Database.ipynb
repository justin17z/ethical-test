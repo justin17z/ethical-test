{
 "cells": [
  {
   "cell_type": "code",
   "execution_count": 1,
   "id": "9f70d2f5",
   "metadata": {},
   "outputs": [],
   "source": [
    "import sqlite3\n",
    "\n",
    "import datetime\n",
    "import sqlite3\n",
    "\n",
    "conn = sqlite3.connect(\"log.db\")\n",
    "\n",
    "conn.execute(\"create table employee (name text, timestamp timestamp)\")\n",
    "\n",
    "\n",
    "conn.close()\n",
    "\n",
    "conn = sqlite3.connect(\"log.db\")\n",
    "\n",
    "c = conn.execute(\"select * from employee\")\n",
    "\n",
    "c.description\n",
    "\n",
    "c.close\n",
    "\n",
    "conn.close()\n",
    "\n",
    "conn = sqlite3.connect(\"log.db\")\n",
    "\n",
    "c = conn.cursor()\n",
    "\n",
    "name = \"aa\"\n",
    "timestamp = datetime.datetime.now()\n",
    "c.execute(\"insert into employee (name,timestamp) values(?, ?)\", (name, timestamp))\n",
    "\n",
    "c.close()\n",
    "conn.close()\n",
    "\n"
   ]
  },
  {
   "cell_type": "code",
   "execution_count": 2,
   "id": "1ed244b4",
   "metadata": {},
   "outputs": [
    {
     "name": "stdout",
     "output_type": "stream",
     "text": [
      "aa\n",
      "2024-03-15 20:36:54.554434\n",
      "('aa', '2024-03-15 20:36:54.554434')\n"
     ]
    }
   ],
   "source": [
    "conn = sqlite3.connect(\"log.db\")\n",
    "\n",
    "c = conn.cursor()\n",
    "\n",
    "name = \"aa\"\n",
    "timestamp = datetime.datetime.now()\n",
    "print(name)\n",
    "print(timestamp)\n",
    "c.execute(\"insert into employee (name,timestamp) values(?, ?)\", (name, timestamp))\n",
    "conn.commit()\n",
    "\n",
    "c.close()\n",
    "conn.close()\n",
    "\n",
    "conn = sqlite3.connect(\"log.db\")\n",
    "c = conn.execute(\"select * from employee\")\n",
    "\n",
    "row=\"\"\n",
    "for row in c:\n",
    "    print(row)\n",
    "\n",
    "c.close()\n",
    "conn.close()\n"
   ]
  }
 ],
 "metadata": {
  "kernelspec": {
   "display_name": "Python 3 (ipykernel)",
   "language": "python",
   "name": "python3"
  },
  "language_info": {
   "codemirror_mode": {
    "name": "ipython",
    "version": 3
   },
   "file_extension": ".py",
   "mimetype": "text/x-python",
   "name": "python",
   "nbconvert_exporter": "python",
   "pygments_lexer": "ipython3",
   "version": "3.11.5"
  }
 },
 "nbformat": 4,
 "nbformat_minor": 5
}
